{
 "cells": [
  {
   "cell_type": "markdown",
   "metadata": {},
   "source": [
    "# Tutorial\n",
    "\n",
    "Tutorial on how to use the Imbalance Quantification (Imbaqu) library.\n",
    "\n",
    "## Downloading and installing\n",
    "Download the package from GitHub, nativate to the `setup.py` and install it using pip."
   ]
  },
  {
   "cell_type": "code",
   "execution_count": null,
   "metadata": {},
   "outputs": [],
   "source": [
    "!pip install ."
   ]
  },
  {
   "cell_type": "code",
   "execution_count": 1,
   "metadata": {},
   "outputs": [],
   "source": [
    "import numpy as np\n",
    "import pandas as pd\n",
    "import matplotlib.pyplot as plt\n",
    "np.random.seed(1)"
   ]
  },
  {
   "cell_type": "markdown",
   "metadata": {},
   "source": [
    "## Create Dataset\n",
    "This dataset is just created for demonstated purposes. Substitute it by your own data."
   ]
  },
  {
   "cell_type": "code",
   "execution_count": 2,
   "metadata": {},
   "outputs": [
    {
     "data": {
      "text/html": [
       "<div>\n",
       "<style scoped>\n",
       "    .dataframe tbody tr th:only-of-type {\n",
       "        vertical-align: middle;\n",
       "    }\n",
       "\n",
       "    .dataframe tbody tr th {\n",
       "        vertical-align: top;\n",
       "    }\n",
       "\n",
       "    .dataframe thead th {\n",
       "        text-align: right;\n",
       "    }\n",
       "</style>\n",
       "<table border=\"1\" class=\"dataframe\">\n",
       "  <thead>\n",
       "    <tr style=\"text-align: right;\">\n",
       "      <th></th>\n",
       "      <th>num1</th>\n",
       "      <th>num2</th>\n",
       "      <th>cat1</th>\n",
       "    </tr>\n",
       "  </thead>\n",
       "  <tbody>\n",
       "    <tr>\n",
       "      <th>0</th>\n",
       "      <td>1.624345</td>\n",
       "      <td>-0.611756</td>\n",
       "      <td>2</td>\n",
       "    </tr>\n",
       "    <tr>\n",
       "      <th>1</th>\n",
       "      <td>-0.528172</td>\n",
       "      <td>-1.072969</td>\n",
       "      <td>2</td>\n",
       "    </tr>\n",
       "    <tr>\n",
       "      <th>2</th>\n",
       "      <td>0.865408</td>\n",
       "      <td>-2.301539</td>\n",
       "      <td>1</td>\n",
       "    </tr>\n",
       "    <tr>\n",
       "      <th>3</th>\n",
       "      <td>1.744812</td>\n",
       "      <td>-0.761207</td>\n",
       "      <td>1</td>\n",
       "    </tr>\n",
       "    <tr>\n",
       "      <th>4</th>\n",
       "      <td>0.319039</td>\n",
       "      <td>-0.249370</td>\n",
       "      <td>1</td>\n",
       "    </tr>\n",
       "    <tr>\n",
       "      <th>...</th>\n",
       "      <td>...</td>\n",
       "      <td>...</td>\n",
       "      <td>...</td>\n",
       "    </tr>\n",
       "    <tr>\n",
       "      <th>995</th>\n",
       "      <td>-0.430770</td>\n",
       "      <td>0.944285</td>\n",
       "      <td>2</td>\n",
       "    </tr>\n",
       "    <tr>\n",
       "      <th>996</th>\n",
       "      <td>-0.472876</td>\n",
       "      <td>-1.407064</td>\n",
       "      <td>1</td>\n",
       "    </tr>\n",
       "    <tr>\n",
       "      <th>997</th>\n",
       "      <td>-0.447473</td>\n",
       "      <td>0.188583</td>\n",
       "      <td>2</td>\n",
       "    </tr>\n",
       "    <tr>\n",
       "      <th>998</th>\n",
       "      <td>0.560918</td>\n",
       "      <td>-0.921659</td>\n",
       "      <td>1</td>\n",
       "    </tr>\n",
       "    <tr>\n",
       "      <th>999</th>\n",
       "      <td>0.647375</td>\n",
       "      <td>1.386826</td>\n",
       "      <td>1</td>\n",
       "    </tr>\n",
       "  </tbody>\n",
       "</table>\n",
       "<p>1000 rows × 3 columns</p>\n",
       "</div>"
      ],
      "text/plain": [
       "         num1      num2 cat1\n",
       "0    1.624345 -0.611756    2\n",
       "1   -0.528172 -1.072969    2\n",
       "2    0.865408 -2.301539    1\n",
       "3    1.744812 -0.761207    1\n",
       "4    0.319039 -0.249370    1\n",
       "..        ...       ...  ...\n",
       "995 -0.430770  0.944285    2\n",
       "996 -0.472876 -1.407064    1\n",
       "997 -0.447473  0.188583    2\n",
       "998  0.560918 -0.921659    1\n",
       "999  0.647375  1.386826    1\n",
       "\n",
       "[1000 rows x 3 columns]"
      ]
     },
     "execution_count": 2,
     "metadata": {},
     "output_type": "execute_result"
    }
   ],
   "source": [
    "# create dataset with two continuous and one categorical variable.\n",
    "numerical_data = pd.DataFrame(data = np.random.normal(size = (1000,2)), columns = ['num1', 'num2'])\n",
    "categorical_data = pd.DataFrame(data = np.random.choice([1,2], size=1000), columns= ['cat1'])\n",
    "categorical_data = categorical_data.astype('category')\n",
    "data = pd.concat([numerical_data, categorical_data], axis = 1)\n",
    "data"
   ]
  },
  {
   "cell_type": "code",
   "execution_count": 3,
   "metadata": {},
   "outputs": [],
   "source": [
    "from imbami import DensityDistanceRelevance, DensityRatioRelevance, crbSMOGN, cSMOGN"
   ]
  },
  {
   "cell_type": "code",
   "execution_count": 4,
   "metadata": {},
   "outputs": [],
   "source": [
    "target_column = 'num1'"
   ]
  },
  {
   "cell_type": "code",
   "execution_count": 5,
   "metadata": {},
   "outputs": [],
   "source": [
    "ratio_kernel = DensityRatioRelevance()\n",
    "ratio_kernel.fit(data[target_column].to_numpy(),\n",
    "            rel_data= None)\n",
    "\n",
    "ratio_relevance = pd.Series(data = ratio_kernel.eval(data[target_column].to_numpy()), index= data.index)\n",
    "\n",
    "ratio_sampler = crbSMOGN(data=data,\n",
    "                    target_column=target_column,\n",
    "                    relevance_values=ratio_relevance)\n",
    "\n",
    "\n",
    "new_ratio_data = ratio_sampler.run_sampling(min_acceptable_relevance=1,\n",
    "                    max_acceptable_relevance=1,\n",
    "                    num_bins=10,\n",
    "                    allowed_bin_deviation=1,\n",
    "                    noise_factor=0.01,\n",
    "                    ignore_categorical_similarity=False,\n",
    "                    enable_undersampling=True)"
   ]
  },
  {
   "cell_type": "code",
   "execution_count": 6,
   "metadata": {},
   "outputs": [],
   "source": [
    "dist_kernel = DensityDistanceRelevance()\n",
    "dist_kernel.fit(data[target_column].to_numpy(),\n",
    "            emp_bandwidth_type='silverman',\n",
    "            rel_data= None,\n",
    "            rel_bandwidth_type= 'uniform',\n",
    "            rel_bandwidth_factor= 1)\n",
    "\n",
    "dist_relevance = pd.Series(data = dist_kernel.eval(data[target_column].to_numpy(), centered= True), index= data.index)\n",
    "\n",
    "dist_sampler = cSMOGN(data=data,\n",
    "                target_column=target_column,\n",
    "                relevance_values=dist_relevance)\n",
    "\n",
    "new_dist_data = dist_sampler.run_sampling(num_bins=10,\n",
    "                    allowed_bin_deviation=1,\n",
    "                    noise_factor=0.01,\n",
    "                    ignore_categorical_similarity=False,\n",
    "                    oversample_rate = 0.5,\n",
    "                    undersample_rate = 0.5,\n",
    "                    enable_undersampling = True)\n"
   ]
  },
  {
   "cell_type": "code",
   "execution_count": 7,
   "metadata": {},
   "outputs": [
    {
     "data": {
      "text/plain": [
       "<Axes: >"
      ]
     },
     "execution_count": 7,
     "metadata": {},
     "output_type": "execute_result"
    },
    {
     "data": {
      "image/png": "[encoded data removed]",
      "text/plain": [
       "<Figure size 640x480 with 1 Axes>"
      ]
     },
     "metadata": {},
     "output_type": "display_data"
    }
   ],
   "source": [
    "dist_relevance.hist(bins=20)"
   ]
  },
  {
   "cell_type": "code",
   "execution_count": 8,
   "metadata": {},
   "outputs": [
    {
     "data": {
      "image/png": "[encoded data removed]",
      "text/plain": [
       "<Figure size 640x480 with 1 Axes>"
      ]
     },
     "metadata": {},
     "output_type": "display_data"
    }
   ],
   "source": [
    "plt.hist(data['num1'], alpha = 0.5, label= 'Data')\n",
    "plt.hist(new_dist_data['num1'], alpha = 0.5, label= 'New Dist Data')\n",
    "plt.hist(new_ratio_data['num1'], alpha =0.5, label= 'New Ratio Data')\n",
    "plt.legend()\n",
    "plt.show()"
   ]
  }
 ],
 "metadata": {
  "kernelspec": {
   "display_name": "ensemble_env",
   "language": "python",
   "name": "python3"
  },
  "language_info": {
   "codemirror_mode": {
    "name": "ipython",
    "version": 3
   },
   "file_extension": ".py",
   "mimetype": "text/x-python",
   "name": "python",
   "nbconvert_exporter": "python",
   "pygments_lexer": "ipython3",
   "version": "3.13.5"
  }
 },
 "nbformat": 4,
 "nbformat_minor": 2
}
